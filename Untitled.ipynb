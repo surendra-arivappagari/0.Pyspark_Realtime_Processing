{
 "cells": [
  {
   "cell_type": "code",
   "execution_count": 1,
   "metadata": {},
   "outputs": [
    {
     "ename": "KeyError",
     "evalue": "'a'",
     "output_type": "error",
     "traceback": [
      "\u001b[1;31m---------------------------------------------------------------------------\u001b[0m",
      "\u001b[1;31mKeyError\u001b[0m                                  Traceback (most recent call last)",
      "\u001b[1;32m<ipython-input-1-e14387692dca>\u001b[0m in \u001b[0;36m<module>\u001b[1;34m\u001b[0m\n\u001b[0;32m      1\u001b[0m \u001b[0ms1\u001b[0m\u001b[1;33m=\u001b[0m\u001b[1;34m\"abcd\"\u001b[0m\u001b[1;33m\u001b[0m\u001b[1;33m\u001b[0m\u001b[0m\n\u001b[0;32m      2\u001b[0m \u001b[0md1\u001b[0m\u001b[1;33m=\u001b[0m\u001b[1;33m{\u001b[0m\u001b[1;33m}\u001b[0m\u001b[1;33m\u001b[0m\u001b[1;33m\u001b[0m\u001b[0m\n\u001b[1;32m----> 3\u001b[1;33m \u001b[1;33m{\u001b[0m\u001b[0md1\u001b[0m\u001b[1;33m[\u001b[0m\u001b[0mi\u001b[0m\u001b[1;33m]\u001b[0m\u001b[1;33m:\u001b[0m\u001b[0ms1\u001b[0m\u001b[1;33m.\u001b[0m\u001b[0mcount\u001b[0m\u001b[1;33m(\u001b[0m\u001b[0mi\u001b[0m\u001b[1;33m)\u001b[0m \u001b[1;32mfor\u001b[0m \u001b[0mi\u001b[0m \u001b[1;32min\u001b[0m \u001b[0ms1\u001b[0m\u001b[1;33m}\u001b[0m\u001b[1;33m\u001b[0m\u001b[1;33m\u001b[0m\u001b[0m\n\u001b[0m\u001b[0;32m      4\u001b[0m \u001b[0md1\u001b[0m\u001b[1;33m.\u001b[0m\u001b[0mitems\u001b[0m\u001b[1;33m(\u001b[0m\u001b[1;33m)\u001b[0m\u001b[1;33m\u001b[0m\u001b[1;33m\u001b[0m\u001b[0m\n",
      "\u001b[1;32m<ipython-input-1-e14387692dca>\u001b[0m in \u001b[0;36m<dictcomp>\u001b[1;34m(.0)\u001b[0m\n\u001b[0;32m      1\u001b[0m \u001b[0ms1\u001b[0m\u001b[1;33m=\u001b[0m\u001b[1;34m\"abcd\"\u001b[0m\u001b[1;33m\u001b[0m\u001b[1;33m\u001b[0m\u001b[0m\n\u001b[0;32m      2\u001b[0m \u001b[0md1\u001b[0m\u001b[1;33m=\u001b[0m\u001b[1;33m{\u001b[0m\u001b[1;33m}\u001b[0m\u001b[1;33m\u001b[0m\u001b[1;33m\u001b[0m\u001b[0m\n\u001b[1;32m----> 3\u001b[1;33m \u001b[1;33m{\u001b[0m\u001b[0md1\u001b[0m\u001b[1;33m[\u001b[0m\u001b[0mi\u001b[0m\u001b[1;33m]\u001b[0m\u001b[1;33m:\u001b[0m\u001b[0ms1\u001b[0m\u001b[1;33m.\u001b[0m\u001b[0mcount\u001b[0m\u001b[1;33m(\u001b[0m\u001b[0mi\u001b[0m\u001b[1;33m)\u001b[0m \u001b[1;32mfor\u001b[0m \u001b[0mi\u001b[0m \u001b[1;32min\u001b[0m \u001b[0ms1\u001b[0m\u001b[1;33m}\u001b[0m\u001b[1;33m\u001b[0m\u001b[1;33m\u001b[0m\u001b[0m\n\u001b[0m\u001b[0;32m      4\u001b[0m \u001b[0md1\u001b[0m\u001b[1;33m.\u001b[0m\u001b[0mitems\u001b[0m\u001b[1;33m(\u001b[0m\u001b[1;33m)\u001b[0m\u001b[1;33m\u001b[0m\u001b[1;33m\u001b[0m\u001b[0m\n",
      "\u001b[1;31mKeyError\u001b[0m: 'a'"
     ]
    }
   ],
   "source": [
    "s1=\"abcd\"\n",
    "d1={}\n",
    "{d1[i]:s1.count(i) for i in s1}\n",
    "d1.items()"
   ]
  },
  {
   "cell_type": "code",
   "execution_count": 50,
   "metadata": {},
   "outputs": [
    {
     "name": "stdout",
     "output_type": "stream",
     "text": [
      "hello\n"
     ]
    }
   ],
   "source": [
    "print(\"hello\")"
   ]
  },
  {
   "cell_type": "code",
   "execution_count": 14,
   "metadata": {},
   "outputs": [
    {
     "name": "stdout",
     "output_type": "stream",
     "text": [
      "else\n",
      "[0, 1]\n"
     ]
    }
   ],
   "source": [
    "nums=[3,3,4,5]\n",
    "target=6\n",
    "for i in range(0, len(nums)):\n",
    "    if (target - nums[i]) in nums[i+1:]:\n",
    "        if nums.count((target - nums[i]))==1:    \n",
    "            print(\"if\")\n",
    "            print([i, nums.index((target - nums[i]))])\n",
    "            break\n",
    "        else:\n",
    "            print(\"else\")\n",
    "            print([i, nums.index((target - nums[i]),1)])\n",
    "            break"
   ]
  },
  {
   "cell_type": "code",
   "execution_count": 17,
   "metadata": {},
   "outputs": [
    {
     "data": {
      "text/plain": [
       "[1, 2]"
      ]
     },
     "execution_count": 17,
     "metadata": {},
     "output_type": "execute_result"
    }
   ],
   "source": [
    "l=[1,(1+1)]\n",
    "l"
   ]
  },
  {
   "cell_type": "code",
   "execution_count": 38,
   "metadata": {},
   "outputs": [],
   "source": [
    "s=\"ghaaxyaaapqaaaxyaaaacdaaa\"\n",
    "c='a'\n",
    "n=3\n"
   ]
  },
  {
   "cell_type": "code",
   "execution_count": 39,
   "metadata": {},
   "outputs": [
    {
     "name": "stdout",
     "output_type": "stream",
     "text": [
      "3\n"
     ]
    }
   ],
   "source": [
    "cnt=0\n",
    "for i in range(0,len(s)-3):\n",
    "    if s[i]==c:\n",
    "        if (set(s[i:i+3]) == set(c)) and (s[i+3]!=c) and (s[i-1]!=c):\n",
    "#             print('s[i:i+3]', s[i:i+3])\n",
    "#             print('s[i+3]', s[i+3])\n",
    "#             print('s[i-1]', s[i-1])\n",
    "            cnt+=1\n",
    "if s[-3]==c and len(set(s[-3:]))==1:\n",
    "    cnt+=1\n",
    "        \n",
    "print(cnt)"
   ]
  },
  {
   "cell_type": "code",
   "execution_count": 15,
   "metadata": {},
   "outputs": [
    {
     "data": {
      "text/plain": [
       "'aaa'"
      ]
     },
     "execution_count": 15,
     "metadata": {},
     "output_type": "execute_result"
    }
   ],
   "source": [
    "x=\"abaaax\"\n",
    "x[2:2+3]"
   ]
  },
  {
   "cell_type": "code",
   "execution_count": 17,
   "metadata": {},
   "outputs": [
    {
     "name": "stdout",
     "output_type": "stream",
     "text": [
      "35\n",
      "10\n",
      "20\n",
      "-10\n",
      "-35\n"
     ]
    }
   ],
   "source": [
    "l1=[10, 20, -35, 35, -10]\n",
    "\n",
    "set(l1)\n",
    "for i in set(l1):\n",
    "    print(i)"
   ]
  },
  {
   "cell_type": "code",
   "execution_count": 13,
   "metadata": {},
   "outputs": [
    {
     "name": "stdout",
     "output_type": "stream",
     "text": [
      "0 --> 0 0.0000\n",
      "1 --> 1 1.0000\n",
      "2 --> 2 2.0000\n",
      "3 --> 3 3.0000\n",
      "4 --> 4 4.0000\n",
      "5 --> 5 5.0000\n",
      "6 --> 6 6.0000\n",
      "7 --> 7 7.0000\n",
      "8 --> 8 8.0000\n"
     ]
    },
    {
     "data": {
      "text/plain": [
       "8"
      ]
     },
     "execution_count": 13,
     "metadata": {},
     "output_type": "execute_result"
    }
   ],
   "source": [
    "l1=[0,1,2,3,4,5,6,7,8]\n",
    "for i in range(0, len(l1)):\n",
    "    print(i, \"-->\", l1[i], \"{:.4f}\".format(i))\n",
    "    \n",
    "list(set(l1))[-1]"
   ]
  },
  {
   "cell_type": "code",
   "execution_count": 7,
   "metadata": {},
   "outputs": [],
   "source": [
    "import pandas as pd\n",
    "import numpy as np\n",
    "from pyspark.sql import SparkSession\n",
    "from pyspark.sql import functions\n"
   ]
  },
  {
   "cell_type": "code",
   "execution_count": 8,
   "metadata": {},
   "outputs": [],
   "source": [
    "spark = spark.builder.appName(\"Name\").getOrCreate()"
   ]
  },
  {
   "cell_type": "code",
   "execution_count": 6,
   "metadata": {},
   "outputs": [],
   "source": [
    "dict1 = {\"ID\":[101,101,102,102,102,104,np.nan,105], \"Name\":['AAA','BBB','CCC','DDD','EEE','CCC','DDD','EEE']}\n",
    "dict2 = {\"ID\":[101,101,101,102,102,106,107,np.nan], \"Name\":['AAA','BBB','CCC','DDD','EEE','CCC','DDD','EEE']}\n",
    "df1 = pd.DataFrame(dict1)\n",
    "df2 = pd.DataFrame(dict2)\n"
   ]
  },
  {
   "cell_type": "code",
   "execution_count": 10,
   "metadata": {},
   "outputs": [
    {
     "ename": "NameError",
     "evalue": "name 'StructType' is not defined",
     "output_type": "error",
     "traceback": [
      "\u001b[1;31m---------------------------------------------------------------------------\u001b[0m",
      "\u001b[1;31mNameError\u001b[0m                                 Traceback (most recent call last)",
      "\u001b[1;32m<ipython-input-10-af1019da83e2>\u001b[0m in \u001b[0;36m<module>\u001b[1;34m\u001b[0m\n\u001b[1;32m----> 1\u001b[1;33m \u001b[0mschema\u001b[0m \u001b[1;33m=\u001b[0m \u001b[0mStructType\u001b[0m\u001b[1;33m(\u001b[0m\u001b[1;33m[\u001b[0m\u001b[0mStructField\u001b[0m\u001b[1;33m(\u001b[0m\u001b[0mID\u001b[0m\u001b[1;33m,\u001b[0m \u001b[0mint\u001b[0m\u001b[1;33m)\u001b[0m\u001b[1;33m]\u001b[0m\u001b[1;33m)\u001b[0m\u001b[1;33m\u001b[0m\u001b[1;33m\u001b[0m\u001b[0m\n\u001b[0m\u001b[0;32m      2\u001b[0m \u001b[0mdff1\u001b[0m \u001b[1;33m=\u001b[0m \u001b[0mspark\u001b[0m\u001b[1;33m.\u001b[0m\u001b[0mcreateDataFrame\u001b[0m\u001b[1;33m(\u001b[0m\u001b[0mdf1\u001b[0m\u001b[1;33m)\u001b[0m\u001b[1;33m\u001b[0m\u001b[1;33m\u001b[0m\u001b[0m\n",
      "\u001b[1;31mNameError\u001b[0m: name 'StructType' is not defined"
     ]
    }
   ],
   "source": [
    "schema = StructType([StructField(ID, int)])\n",
    "dff1 = spark.createDataFrame(df1)\n"
   ]
  },
  {
   "cell_type": "code",
   "execution_count": 129,
   "metadata": {},
   "outputs": [
    {
     "data": {
      "text/html": [
       "<div>\n",
       "<style scoped>\n",
       "    .dataframe tbody tr th:only-of-type {\n",
       "        vertical-align: middle;\n",
       "    }\n",
       "\n",
       "    .dataframe tbody tr th {\n",
       "        vertical-align: top;\n",
       "    }\n",
       "\n",
       "    .dataframe thead th {\n",
       "        text-align: right;\n",
       "    }\n",
       "</style>\n",
       "<table border=\"1\" class=\"dataframe\">\n",
       "  <thead>\n",
       "    <tr style=\"text-align: right;\">\n",
       "      <th></th>\n",
       "      <th>India</th>\n",
       "      <th>USA</th>\n",
       "      <th>China</th>\n",
       "      <th>Japan</th>\n",
       "      <th>Italy</th>\n",
       "    </tr>\n",
       "  </thead>\n",
       "  <tbody>\n",
       "    <tr>\n",
       "      <th>2000</th>\n",
       "      <td>0.444726</td>\n",
       "      <td>0.238199</td>\n",
       "      <td>0.896271</td>\n",
       "      <td>0.291413</td>\n",
       "      <td>0.764353</td>\n",
       "    </tr>\n",
       "    <tr>\n",
       "      <th>2001</th>\n",
       "      <td>0.886689</td>\n",
       "      <td>0.313055</td>\n",
       "      <td>0.613101</td>\n",
       "      <td>0.400092</td>\n",
       "      <td>0.322852</td>\n",
       "    </tr>\n",
       "    <tr>\n",
       "      <th>2002</th>\n",
       "      <td>0.478735</td>\n",
       "      <td>0.170319</td>\n",
       "      <td>0.662239</td>\n",
       "      <td>0.213670</td>\n",
       "      <td>0.449848</td>\n",
       "    </tr>\n",
       "    <tr>\n",
       "      <th>2003</th>\n",
       "      <td>0.501900</td>\n",
       "      <td>0.619422</td>\n",
       "      <td>0.096762</td>\n",
       "      <td>0.102575</td>\n",
       "      <td>0.833317</td>\n",
       "    </tr>\n",
       "    <tr>\n",
       "      <th>2004</th>\n",
       "      <td>0.923576</td>\n",
       "      <td>0.496223</td>\n",
       "      <td>0.109793</td>\n",
       "      <td>0.723358</td>\n",
       "      <td>0.726891</td>\n",
       "    </tr>\n",
       "    <tr>\n",
       "      <th>2005</th>\n",
       "      <td>0.174691</td>\n",
       "      <td>0.816507</td>\n",
       "      <td>0.823253</td>\n",
       "      <td>0.193840</td>\n",
       "      <td>0.028651</td>\n",
       "    </tr>\n",
       "    <tr>\n",
       "      <th>2006</th>\n",
       "      <td>0.123155</td>\n",
       "      <td>0.004907</td>\n",
       "      <td>0.614026</td>\n",
       "      <td>0.630655</td>\n",
       "      <td>0.984561</td>\n",
       "    </tr>\n",
       "    <tr>\n",
       "      <th>2007</th>\n",
       "      <td>0.868166</td>\n",
       "      <td>0.224088</td>\n",
       "      <td>0.923247</td>\n",
       "      <td>0.231627</td>\n",
       "      <td>0.832017</td>\n",
       "    </tr>\n",
       "    <tr>\n",
       "      <th>2008</th>\n",
       "      <td>0.898771</td>\n",
       "      <td>0.142273</td>\n",
       "      <td>0.691304</td>\n",
       "      <td>0.951146</td>\n",
       "      <td>0.724038</td>\n",
       "    </tr>\n",
       "    <tr>\n",
       "      <th>2009</th>\n",
       "      <td>0.297569</td>\n",
       "      <td>0.323430</td>\n",
       "      <td>0.056599</td>\n",
       "      <td>0.938310</td>\n",
       "      <td>0.550607</td>\n",
       "    </tr>\n",
       "  </tbody>\n",
       "</table>\n",
       "</div>"
      ],
      "text/plain": [
       "         India       USA     China     Japan     Italy\n",
       "2000  0.444726  0.238199  0.896271  0.291413  0.764353\n",
       "2001  0.886689  0.313055  0.613101  0.400092  0.322852\n",
       "2002  0.478735  0.170319  0.662239  0.213670  0.449848\n",
       "2003  0.501900  0.619422  0.096762  0.102575  0.833317\n",
       "2004  0.923576  0.496223  0.109793  0.723358  0.726891\n",
       "2005  0.174691  0.816507  0.823253  0.193840  0.028651\n",
       "2006  0.123155  0.004907  0.614026  0.630655  0.984561\n",
       "2007  0.868166  0.224088  0.923247  0.231627  0.832017\n",
       "2008  0.898771  0.142273  0.691304  0.951146  0.724038\n",
       "2009  0.297569  0.323430  0.056599  0.938310  0.550607"
      ]
     },
     "execution_count": 129,
     "metadata": {},
     "output_type": "execute_result"
    }
   ],
   "source": [
    "a = np.array(np.random.rand(10,5))\n",
    "df = pd.DataFrame(a, index = np.arange(2000,2010), columns = ['India', 'USA', 'China', 'Japan', 'Italy'])\n",
    "df\n"
   ]
  },
  {
   "cell_type": "code",
   "execution_count": 152,
   "metadata": {
    "scrolled": true
   },
   "outputs": [
    {
     "data": {
      "text/html": [
       "<div>\n",
       "<style scoped>\n",
       "    .dataframe tbody tr th:only-of-type {\n",
       "        vertical-align: middle;\n",
       "    }\n",
       "\n",
       "    .dataframe tbody tr th {\n",
       "        vertical-align: top;\n",
       "    }\n",
       "\n",
       "    .dataframe thead th {\n",
       "        text-align: right;\n",
       "    }\n",
       "</style>\n",
       "<table border=\"1\" class=\"dataframe\">\n",
       "  <thead>\n",
       "    <tr style=\"text-align: right;\">\n",
       "      <th></th>\n",
       "      <th>India</th>\n",
       "      <th>US</th>\n",
       "      <th>China</th>\n",
       "      <th>Japan</th>\n",
       "      <th>Italy</th>\n",
       "    </tr>\n",
       "  </thead>\n",
       "  <tbody>\n",
       "    <tr>\n",
       "      <th>2000</th>\n",
       "      <td>0.444726</td>\n",
       "      <td>0.238199</td>\n",
       "      <td>0.896271</td>\n",
       "      <td>0.291413</td>\n",
       "      <td>0.764353</td>\n",
       "    </tr>\n",
       "    <tr>\n",
       "      <th>2001</th>\n",
       "      <td>0.886689</td>\n",
       "      <td>0.313055</td>\n",
       "      <td>0.613101</td>\n",
       "      <td>0.400092</td>\n",
       "      <td>0.322852</td>\n",
       "    </tr>\n",
       "    <tr>\n",
       "      <th>2002</th>\n",
       "      <td>0.478735</td>\n",
       "      <td>0.170319</td>\n",
       "      <td>0.662239</td>\n",
       "      <td>0.213670</td>\n",
       "      <td>0.449848</td>\n",
       "    </tr>\n",
       "    <tr>\n",
       "      <th>2003</th>\n",
       "      <td>0.501900</td>\n",
       "      <td>0.619422</td>\n",
       "      <td>0.096762</td>\n",
       "      <td>0.102575</td>\n",
       "      <td>0.833317</td>\n",
       "    </tr>\n",
       "    <tr>\n",
       "      <th>2004</th>\n",
       "      <td>0.923576</td>\n",
       "      <td>0.496223</td>\n",
       "      <td>0.109793</td>\n",
       "      <td>0.723358</td>\n",
       "      <td>0.726891</td>\n",
       "    </tr>\n",
       "    <tr>\n",
       "      <th>2005</th>\n",
       "      <td>0.174691</td>\n",
       "      <td>0.816507</td>\n",
       "      <td>0.823253</td>\n",
       "      <td>0.193840</td>\n",
       "      <td>0.028651</td>\n",
       "    </tr>\n",
       "    <tr>\n",
       "      <th>2006</th>\n",
       "      <td>0.123155</td>\n",
       "      <td>0.004907</td>\n",
       "      <td>0.614026</td>\n",
       "      <td>0.630655</td>\n",
       "      <td>0.984561</td>\n",
       "    </tr>\n",
       "    <tr>\n",
       "      <th>2007</th>\n",
       "      <td>0.868166</td>\n",
       "      <td>0.224088</td>\n",
       "      <td>0.923247</td>\n",
       "      <td>0.231627</td>\n",
       "      <td>0.832017</td>\n",
       "    </tr>\n",
       "    <tr>\n",
       "      <th>2008</th>\n",
       "      <td>0.898771</td>\n",
       "      <td>0.142273</td>\n",
       "      <td>0.691304</td>\n",
       "      <td>0.951146</td>\n",
       "      <td>0.724038</td>\n",
       "    </tr>\n",
       "    <tr>\n",
       "      <th>2009</th>\n",
       "      <td>0.297569</td>\n",
       "      <td>0.323430</td>\n",
       "      <td>0.056599</td>\n",
       "      <td>0.938310</td>\n",
       "      <td>0.550607</td>\n",
       "    </tr>\n",
       "    <tr>\n",
       "      <th>2000010</th>\n",
       "      <td>0.069607</td>\n",
       "      <td>0.143659</td>\n",
       "      <td>0.554141</td>\n",
       "      <td>0.678078</td>\n",
       "      <td>0.348706</td>\n",
       "    </tr>\n",
       "  </tbody>\n",
       "</table>\n",
       "</div>"
      ],
      "text/plain": [
       "            India        US     China     Japan     Italy\n",
       "2000     0.444726  0.238199  0.896271  0.291413  0.764353\n",
       "2001     0.886689  0.313055  0.613101  0.400092  0.322852\n",
       "2002     0.478735  0.170319  0.662239  0.213670  0.449848\n",
       "2003     0.501900  0.619422  0.096762  0.102575  0.833317\n",
       "2004     0.923576  0.496223  0.109793  0.723358  0.726891\n",
       "2005     0.174691  0.816507  0.823253  0.193840  0.028651\n",
       "2006     0.123155  0.004907  0.614026  0.630655  0.984561\n",
       "2007     0.868166  0.224088  0.923247  0.231627  0.832017\n",
       "2008     0.898771  0.142273  0.691304  0.951146  0.724038\n",
       "2009     0.297569  0.323430  0.056599  0.938310  0.550607\n",
       "2000010  0.069607  0.143659  0.554141  0.678078  0.348706"
      ]
     },
     "execution_count": 152,
     "metadata": {},
     "output_type": "execute_result"
    }
   ],
   "source": [
    "df=df.rename(columns={'USA': 'US'})\n",
    "df"
   ]
  },
  {
   "cell_type": "code",
   "execution_count": 165,
   "metadata": {},
   "outputs": [
    {
     "data": {
      "text/plain": [
       "(2, 2, 2)"
      ]
     },
     "execution_count": 165,
     "metadata": {},
     "output_type": "execute_result"
    }
   ],
   "source": [
    "l=np.arange(0,10,2)\n",
    "\n",
    "l=np.array([x for x in range(10)])\n",
    "a=[[1,2],[3,4]]\n",
    "a=[[[1,2],[3,4]], [[11,21],[31,41]]]\n",
    "l=np.array(a)\n",
    "l.shape\n",
    "np.shape(l)"
   ]
  },
  {
   "cell_type": "code",
   "execution_count": 166,
   "metadata": {},
   "outputs": [
    {
     "data": {
      "text/plain": [
       "array([[ 0,  1,  2,  3,  4,  5],\n",
       "       [ 6,  7,  8,  9, 10, 11],\n",
       "       [12, 13, 14, 15, 16, 17],\n",
       "       [18, 19, 20, 21, 22, 23]])"
      ]
     },
     "execution_count": 166,
     "metadata": {},
     "output_type": "execute_result"
    }
   ],
   "source": [
    "a=np.arange(24).reshape(4,6)\n",
    "a"
   ]
  },
  {
   "cell_type": "code",
   "execution_count": 168,
   "metadata": {},
   "outputs": [],
   "source": [
    "import matplotlib.pyplot as plt\n",
    "%matplotlib inline"
   ]
  },
  {
   "cell_type": "code",
   "execution_count": 174,
   "metadata": {},
   "outputs": [
    {
     "data": {
      "image/png": "[encoded data removed]",
      "text/plain": [
       "<Figure size 432x288 with 1 Axes>"
      ]
     },
     "metadata": {
      "needs_background": "light"
     },
     "output_type": "display_data"
    }
   ],
   "source": [
    "x_names = ['AA', 'BB', 'CC', 'DD', 'EE', 'FF']\n",
    "y_marks = [78, 60, 94, 80, 86, 70]\n",
    "\n",
    "plt.bar(x_names, y_marks, color='blue')\n",
    "plt.grid(True)\n",
    "plt.show()"
   ]
  },
  {
   "cell_type": "code",
   "execution_count": 170,
   "metadata": {},
   "outputs": [
    {
     "data": {
      "text/plain": [
       "[<matplotlib.lines.Line2D at 0x1bba3b14588>]"
      ]
     },
     "execution_count": 170,
     "metadata": {},
     "output_type": "execute_result"
    },
    {
     "data": {
      "image/png": "[encoded data removed]",
      "text/plain": [
       "<Figure size 432x288 with 1 Axes>"
      ]
     },
     "metadata": {
      "needs_background": "light"
     },
     "output_type": "display_data"
    }
   ],
   "source": [
    "y=[30,40,50,60,70]\n",
    "x=[1,2,3,4,5]\n",
    "plt.xlabel(\"X-axis\")\n",
    "plt.ylabel(\"y-axis\")\n",
    "plt.plot(y)"
   ]
  },
  {
   "cell_type": "code",
   "execution_count": 143,
   "metadata": {},
   "outputs": [
    {
     "data": {
      "text/html": [
       "<div>\n",
       "<style scoped>\n",
       "    .dataframe tbody tr th:only-of-type {\n",
       "        vertical-align: middle;\n",
       "    }\n",
       "\n",
       "    .dataframe tbody tr th {\n",
       "        vertical-align: top;\n",
       "    }\n",
       "\n",
       "    .dataframe thead th {\n",
       "        text-align: right;\n",
       "    }\n",
       "</style>\n",
       "<table border=\"1\" class=\"dataframe\">\n",
       "  <thead>\n",
       "    <tr style=\"text-align: right;\">\n",
       "      <th></th>\n",
       "      <th>India</th>\n",
       "      <th>USA</th>\n",
       "      <th>China</th>\n",
       "      <th>Japan</th>\n",
       "      <th>Italy</th>\n",
       "    </tr>\n",
       "  </thead>\n",
       "  <tbody>\n",
       "    <tr>\n",
       "      <th>2000</th>\n",
       "      <td>0.444726</td>\n",
       "      <td>0.238199</td>\n",
       "      <td>0.896271</td>\n",
       "      <td>0.291413</td>\n",
       "      <td>0.764353</td>\n",
       "    </tr>\n",
       "    <tr>\n",
       "      <th>2001</th>\n",
       "      <td>0.886689</td>\n",
       "      <td>0.313055</td>\n",
       "      <td>0.613101</td>\n",
       "      <td>0.400092</td>\n",
       "      <td>0.322852</td>\n",
       "    </tr>\n",
       "    <tr>\n",
       "      <th>2002</th>\n",
       "      <td>0.478735</td>\n",
       "      <td>0.170319</td>\n",
       "      <td>0.662239</td>\n",
       "      <td>0.213670</td>\n",
       "      <td>0.449848</td>\n",
       "    </tr>\n",
       "    <tr>\n",
       "      <th>2003</th>\n",
       "      <td>0.501900</td>\n",
       "      <td>0.619422</td>\n",
       "      <td>0.096762</td>\n",
       "      <td>0.102575</td>\n",
       "      <td>0.833317</td>\n",
       "    </tr>\n",
       "    <tr>\n",
       "      <th>2004</th>\n",
       "      <td>0.923576</td>\n",
       "      <td>0.496223</td>\n",
       "      <td>0.109793</td>\n",
       "      <td>0.723358</td>\n",
       "      <td>0.726891</td>\n",
       "    </tr>\n",
       "    <tr>\n",
       "      <th>2005</th>\n",
       "      <td>0.174691</td>\n",
       "      <td>0.816507</td>\n",
       "      <td>0.823253</td>\n",
       "      <td>0.193840</td>\n",
       "      <td>0.028651</td>\n",
       "    </tr>\n",
       "    <tr>\n",
       "      <th>2006</th>\n",
       "      <td>0.123155</td>\n",
       "      <td>0.004907</td>\n",
       "      <td>0.614026</td>\n",
       "      <td>0.630655</td>\n",
       "      <td>0.984561</td>\n",
       "    </tr>\n",
       "    <tr>\n",
       "      <th>2007</th>\n",
       "      <td>0.868166</td>\n",
       "      <td>0.224088</td>\n",
       "      <td>0.923247</td>\n",
       "      <td>0.231627</td>\n",
       "      <td>0.832017</td>\n",
       "    </tr>\n",
       "    <tr>\n",
       "      <th>2008</th>\n",
       "      <td>0.898771</td>\n",
       "      <td>0.142273</td>\n",
       "      <td>0.691304</td>\n",
       "      <td>0.951146</td>\n",
       "      <td>0.724038</td>\n",
       "    </tr>\n",
       "    <tr>\n",
       "      <th>2009</th>\n",
       "      <td>0.297569</td>\n",
       "      <td>0.323430</td>\n",
       "      <td>0.056599</td>\n",
       "      <td>0.938310</td>\n",
       "      <td>0.550607</td>\n",
       "    </tr>\n",
       "  </tbody>\n",
       "</table>\n",
       "</div>"
      ],
      "text/plain": [
       "         India       USA     China     Japan     Italy\n",
       "2000  0.444726  0.238199  0.896271  0.291413  0.764353\n",
       "2001  0.886689  0.313055  0.613101  0.400092  0.322852\n",
       "2002  0.478735  0.170319  0.662239  0.213670  0.449848\n",
       "2003  0.501900  0.619422  0.096762  0.102575  0.833317\n",
       "2004  0.923576  0.496223  0.109793  0.723358  0.726891\n",
       "2005  0.174691  0.816507  0.823253  0.193840  0.028651\n",
       "2006  0.123155  0.004907  0.614026  0.630655  0.984561\n",
       "2007  0.868166  0.224088  0.923247  0.231627  0.832017\n",
       "2008  0.898771  0.142273  0.691304  0.951146  0.724038\n",
       "2009  0.297569  0.323430  0.056599  0.938310  0.550607"
      ]
     },
     "execution_count": 143,
     "metadata": {},
     "output_type": "execute_result"
    }
   ],
   "source": [
    "df.drop(2010)"
   ]
  },
  {
   "cell_type": "code",
   "execution_count": 132,
   "metadata": {},
   "outputs": [
    {
     "data": {
      "text/html": [
       "<div>\n",
       "<style scoped>\n",
       "    .dataframe tbody tr th:only-of-type {\n",
       "        vertical-align: middle;\n",
       "    }\n",
       "\n",
       "    .dataframe tbody tr th {\n",
       "        vertical-align: top;\n",
       "    }\n",
       "\n",
       "    .dataframe thead th {\n",
       "        text-align: right;\n",
       "    }\n",
       "</style>\n",
       "<table border=\"1\" class=\"dataframe\">\n",
       "  <thead>\n",
       "    <tr style=\"text-align: right;\">\n",
       "      <th></th>\n",
       "      <th>India</th>\n",
       "      <th>USA</th>\n",
       "    </tr>\n",
       "  </thead>\n",
       "  <tbody>\n",
       "    <tr>\n",
       "      <th>2005</th>\n",
       "      <td>0.174691</td>\n",
       "      <td>0.816507</td>\n",
       "    </tr>\n",
       "    <tr>\n",
       "      <th>2006</th>\n",
       "      <td>0.123155</td>\n",
       "      <td>0.004907</td>\n",
       "    </tr>\n",
       "  </tbody>\n",
       "</table>\n",
       "</div>"
      ],
      "text/plain": [
       "         India       USA\n",
       "2005  0.174691  0.816507\n",
       "2006  0.123155  0.004907"
      ]
     },
     "execution_count": 132,
     "metadata": {},
     "output_type": "execute_result"
    }
   ],
   "source": [
    "df.loc[[2005,2006],[\"India\", \"USA\"]]"
   ]
  },
  {
   "cell_type": "code",
   "execution_count": 135,
   "metadata": {},
   "outputs": [
    {
     "data": {
      "text/html": [
       "<div>\n",
       "<style scoped>\n",
       "    .dataframe tbody tr th:only-of-type {\n",
       "        vertical-align: middle;\n",
       "    }\n",
       "\n",
       "    .dataframe tbody tr th {\n",
       "        vertical-align: top;\n",
       "    }\n",
       "\n",
       "    .dataframe thead th {\n",
       "        text-align: right;\n",
       "    }\n",
       "</style>\n",
       "<table border=\"1\" class=\"dataframe\">\n",
       "  <thead>\n",
       "    <tr style=\"text-align: right;\">\n",
       "      <th></th>\n",
       "      <th>India</th>\n",
       "      <th>USA</th>\n",
       "    </tr>\n",
       "  </thead>\n",
       "  <tbody>\n",
       "    <tr>\n",
       "      <th>2005</th>\n",
       "      <td>0.174691</td>\n",
       "      <td>0.816507</td>\n",
       "    </tr>\n",
       "    <tr>\n",
       "      <th>2006</th>\n",
       "      <td>0.123155</td>\n",
       "      <td>0.004907</td>\n",
       "    </tr>\n",
       "  </tbody>\n",
       "</table>\n",
       "</div>"
      ],
      "text/plain": [
       "         India       USA\n",
       "2005  0.174691  0.816507\n",
       "2006  0.123155  0.004907"
      ]
     },
     "execution_count": 135,
     "metadata": {},
     "output_type": "execute_result"
    }
   ],
   "source": [
    "df.iloc[[5,6],[0,1]]"
   ]
  },
  {
   "cell_type": "code",
   "execution_count": 140,
   "metadata": {},
   "outputs": [
    {
     "data": {
      "text/plain": [
       "set"
      ]
     },
     "execution_count": 140,
     "metadata": {},
     "output_type": "execute_result"
    }
   ],
   "source": [
    "l={1,2,}\n",
    "type(l)"
   ]
  },
  {
   "cell_type": "code",
   "execution_count": 124,
   "metadata": {},
   "outputs": [
    {
     "data": {
      "text/plain": [
       "array([[0.91916463, 0.11945815, 0.02845227, 0.38992059, 0.4645756 ],\n",
       "       [0.39585819, 0.19727075, 0.26679176, 0.29407551, 0.5435483 ],\n",
       "       [0.68414517, 0.42519261, 0.99140186, 0.57655434, 0.32309787],\n",
       "       [0.54017808, 0.59730032, 0.57864947, 0.13713868, 0.7109223 ],\n",
       "       [0.60483875, 0.22458707, 0.17794568, 0.37962261, 0.32733568],\n",
       "       [0.39817117, 0.91633323, 0.60225519, 0.29947421, 0.81826732],\n",
       "       [0.70554499, 0.07565582, 0.93539551, 0.61522726, 0.179045  ],\n",
       "       [0.80030314, 0.31762998, 0.83999545, 0.76545791, 0.39385567],\n",
       "       [0.70365576, 0.18295961, 0.7711389 , 0.31963151, 0.19400459],\n",
       "       [0.67327996, 0.91258364, 0.52348083, 0.56150762, 0.17349268]])"
      ]
     },
     "execution_count": 124,
     "metadata": {},
     "output_type": "execute_result"
    }
   ],
   "source": [
    "import numpy as np\n",
    "l=np.arange(2000,2010)\n",
    "l=np.random.rand(10,5)\n",
    "l"
   ]
  },
  {
   "cell_type": "code",
   "execution_count": 110,
   "metadata": {},
   "outputs": [
    {
     "data": {
      "text/plain": [
       "a    12\n",
       "b    12\n",
       "c    12\n",
       "dtype: int64"
      ]
     },
     "execution_count": 110,
     "metadata": {},
     "output_type": "execute_result"
    }
   ],
   "source": [
    "import pandas as pd\n",
    "d={1:\"ab\", 2:'cd', 3:'ef'}\n",
    "df =pd.Series(d)\n",
    "df = pd.Series(12, index=['a','b','c'])\n",
    "df"
   ]
  },
  {
   "cell_type": "code",
   "execution_count": 103,
   "metadata": {},
   "outputs": [
    {
     "data": {
      "text/plain": [
       "[(1, 'a'), (2, 'b'), (3, 'c'), (4, 'd'), (5, 'e'), (6, 'f')]"
      ]
     },
     "execution_count": 103,
     "metadata": {},
     "output_type": "execute_result"
    }
   ],
   "source": [
    "l1=[1,2,3,4,5,6]\n",
    "l2=['a','b','c','d','e','f','g']\n",
    "l3=list(zip(l1,l2))\n",
    "l3\n",
    "\n"
   ]
  },
  {
   "cell_type": "code",
   "execution_count": 107,
   "metadata": {},
   "outputs": [
    {
     "data": {
      "text/plain": [
       "('a', 'b', 'c', 'd', 'e', 'f')"
      ]
     },
     "execution_count": 107,
     "metadata": {},
     "output_type": "execute_result"
    }
   ],
   "source": [
    "l4,l5=zip(*l3)\n",
    "l5"
   ]
  },
  {
   "cell_type": "code",
   "execution_count": 6,
   "metadata": {
    "scrolled": true
   },
   "outputs": [
    {
     "name": "stdout",
     "output_type": "stream",
     "text": [
      "2\n",
      "4\n",
      "6\n",
      "8\n"
     ]
    }
   ],
   "source": [
    "l=[1,2,3,4]\n",
    "\n",
    "s = lambda x : x*2\n",
    "for i in l:\n",
    "    print(s(i))"
   ]
  },
  {
   "cell_type": "code",
   "execution_count": 47,
   "metadata": {},
   "outputs": [
    {
     "name": "stdout",
     "output_type": "stream",
     "text": [
      "Test=a bcd eg   klk                     m\n"
     ]
    },
    {
     "data": {
      "text/plain": [
       "['a', 'bcd', 'eg', 'klk', 'm']"
      ]
     },
     "execution_count": 47,
     "metadata": {},
     "output_type": "execute_result"
    }
   ],
   "source": [
    "s=input(\"Test=\")\n",
    "l=s.strip().split()\n",
    "l\n"
   ]
  },
  {
   "cell_type": "code",
   "execution_count": 60,
   "metadata": {},
   "outputs": [
    {
     "data": {
      "text/plain": [
       "65"
      ]
     },
     "execution_count": 60,
     "metadata": {},
     "output_type": "execute_result"
    }
   ],
   "source": [
    "ord('A')"
   ]
  },
  {
   "cell_type": "code",
   "execution_count": 55,
   "metadata": {},
   "outputs": [
    {
     "data": {
      "text/plain": [
       "'a'"
      ]
     },
     "execution_count": 55,
     "metadata": {},
     "output_type": "execute_result"
    }
   ],
   "source": [
    "chr(97)"
   ]
  },
  {
   "cell_type": "code",
   "execution_count": 49,
   "metadata": {},
   "outputs": [
    {
     "data": {
      "text/plain": [
       "[0, 1, 2, 3, 4, 5, 8, 9, 'a']"
      ]
     },
     "execution_count": 49,
     "metadata": {},
     "output_type": "execute_result"
    }
   ],
   "source": [
    "l=list(set([9,4,5,1,8,3,0,2,'a']))\n",
    "#l=['f','e','a','d','b','c']\n",
    "l"
   ]
  },
  {
   "cell_type": "code",
   "execution_count": 67,
   "metadata": {},
   "outputs": [
    {
     "data": {
      "text/plain": [
       "[0, 1, 2, 3, 4, 5, 8, 9]"
      ]
     },
     "execution_count": 67,
     "metadata": {},
     "output_type": "execute_result"
    }
   ],
   "source": [
    "l=[9,4,5,1,8,3,0,2]\n",
    "l.sort()\n",
    "l"
   ]
  },
  {
   "cell_type": "code",
   "execution_count": 13,
   "metadata": {
    "scrolled": true
   },
   "outputs": [
    {
     "data": {
      "text/plain": [
       "[(1, 2),\n",
       " (1, 3),\n",
       " (1, 4),\n",
       " (2, 1),\n",
       " (2, 3),\n",
       " (2, 4),\n",
       " (3, 1),\n",
       " (3, 2),\n",
       " (3, 4),\n",
       " (4, 1),\n",
       " (4, 2),\n",
       " (4, 3)]"
      ]
     },
     "execution_count": 13,
     "metadata": {},
     "output_type": "execute_result"
    }
   ],
   "source": [
    "import itertools\n",
    "x=list(itertools.permutations([1,2,3,4], 2))\n",
    "x"
   ]
  },
  {
   "cell_type": "code",
   "execution_count": 84,
   "metadata": {},
   "outputs": [
    {
     "data": {
      "text/plain": [
       "'16.235'"
      ]
     },
     "execution_count": 84,
     "metadata": {},
     "output_type": "execute_result"
    }
   ],
   "source": [
    "s=\"{}{}{}\".format(\"AAAA\", \"NNNN\", \"LLL\")\n",
    "s=\"{:.3f}\".format(16.23456789,1.22)\n",
    "s"
   ]
  },
  {
   "cell_type": "code",
   "execution_count": 77,
   "metadata": {},
   "outputs": [
    {
     "data": {
      "text/plain": [
       "'0b10'"
      ]
     },
     "execution_count": 77,
     "metadata": {},
     "output_type": "execute_result"
    }
   ],
   "source": [
    "bin(2)"
   ]
  },
  {
   "cell_type": "code",
   "execution_count": 95,
   "metadata": {},
   "outputs": [
    {
     "data": {
      "text/plain": [
       "['A',\n",
       " 'A',\n",
       " 'B',\n",
       " 'B',\n",
       " 'C',\n",
       " 'C',\n",
       " 'D',\n",
       " 'D',\n",
       " 'E',\n",
       " 'F',\n",
       " 'G',\n",
       " 'H',\n",
       " 'J',\n",
       " 'X',\n",
       " 'Y',\n",
       " 'Z']"
      ]
     },
     "execution_count": 95,
     "metadata": {},
     "output_type": "execute_result"
    }
   ],
   "source": [
    "l=list(\"XYZABCDABCDEFGHJ\")\n",
    "l.sort()\n",
    "l"
   ]
  },
  {
   "cell_type": "code",
   "execution_count": 17,
   "metadata": {},
   "outputs": [
    {
     "name": "stdout",
     "output_type": "stream",
     "text": [
      "3\n",
      "3\n",
      "3\n",
      "4\n",
      "[[0, 0, 0], [0, 0, 1], [0, 0, 2], [0, 1, 0], [0, 1, 1], [0, 2, 0], [0, 2, 2], [1, 0, 0], [1, 0, 1], [1, 1, 0], [1, 1, 2], [1, 2, 1], [1, 2, 2], [2, 0, 0], [2, 0, 2], [2, 1, 1], [2, 1, 2], [2, 2, 0], [2, 2, 1], [2, 2, 2]]\n"
     ]
    }
   ],
   "source": [
    "def res(x,y,z,n):\n",
    "    list1 = [[i,j,k] for i in range(x) for j in range(y) for k in range(z) if i+j+k!=3]\n",
    "    print(list1)\n",
    "    \n",
    "    \n",
    "if __name__ == '__main__':\n",
    "    x = int(input())\n",
    "    y = int(input())\n",
    "    z = int(input())\n",
    "    n = int(input())\n",
    "    res(x,y,z,n)"
   ]
  },
  {
   "cell_type": "code",
   "execution_count": 28,
   "metadata": {},
   "outputs": [
    {
     "name": "stdout",
     "output_type": "stream",
     "text": [
      "0 1\n",
      "0 2\n",
      "0 3\n",
      "0 4\n",
      "0 5\n",
      "1 2\n",
      "1 3\n",
      "1 4\n",
      "1 5\n",
      "2 3\n",
      "2 4\n",
      "2 5\n",
      "3 4\n",
      "3 5\n",
      "4 5\n"
     ]
    }
   ],
   "source": [
    "x1=%timeit\n",
    "l=[3,1,7,2,6,4,9,0]\n",
    "l=[0,1,2,3,4,5]\n",
    "for i in range (len(l)):\n",
    "    for j in range(len(l)-1):\n",
    "        if l[j]<l[j+1]:\n",
    "            print(l[j], l[j+1])\n",
    "            l[j], l[j+1] = l[j+1], l[j]\n",
    "            \n",
    "#l\n"
   ]
  },
  {
   "cell_type": "code",
   "execution_count": 33,
   "metadata": {},
   "outputs": [
    {
     "data": {
      "text/plain": [
       "2.5"
      ]
     },
     "execution_count": 33,
     "metadata": {},
     "output_type": "execute_result"
    }
   ],
   "source": [
    "5/2"
   ]
  },
  {
   "cell_type": "code",
   "execution_count": 39,
   "metadata": {},
   "outputs": [
    {
     "data": {
      "text/plain": [
       "[1, 2, 3, 4, 5, 9]"
      ]
     },
     "execution_count": 39,
     "metadata": {},
     "output_type": "execute_result"
    }
   ],
   "source": [
    "list(set([9,2,3]+[4,5]+[1,2,3,4]))"
   ]
  },
  {
   "cell_type": "code",
   "execution_count": 34,
   "metadata": {},
   "outputs": [
    {
     "name": "stdout",
     "output_type": "stream",
     "text": [
      "0\n",
      "1\n",
      "2\n",
      "3\n",
      "4\n",
      "5\n",
      "6\n",
      "7\n",
      "8\n",
      "9\n"
     ]
    }
   ],
   "source": [
    "for i in range(10):\n",
    "    print(i)"
   ]
  },
  {
   "cell_type": "code",
   "execution_count": 29,
   "metadata": {},
   "outputs": [
    {
     "ename": "TypeError",
     "evalue": "list indices must be integers or slices, not tuple",
     "output_type": "error",
     "traceback": [
      "\u001b[1;31m---------------------------------------------------------------------------\u001b[0m",
      "\u001b[1;31mTypeError\u001b[0m                                 Traceback (most recent call last)",
      "\u001b[1;32m<ipython-input-29-f1b787d81016>\u001b[0m in \u001b[0;36m<module>\u001b[1;34m\u001b[0m\n\u001b[0;32m     23\u001b[0m \u001b[1;33m\u001b[0m\u001b[0m\n\u001b[0;32m     24\u001b[0m \u001b[1;33m\u001b[0m\u001b[0m\n\u001b[1;32m---> 25\u001b[1;33m \u001b[0mbinarysearch\u001b[0m\u001b[1;33m(\u001b[0m\u001b[0marr\u001b[0m\u001b[1;33m,\u001b[0m \u001b[0mn\u001b[0m\u001b[1;33m,\u001b[0m \u001b[0mk\u001b[0m\u001b[1;33m)\u001b[0m\u001b[1;33m\u001b[0m\u001b[1;33m\u001b[0m\u001b[0m\n\u001b[0m",
      "\u001b[1;32m<ipython-input-29-f1b787d81016>\u001b[0m in \u001b[0;36mbinarysearch\u001b[1;34m(arr, n, k)\u001b[0m\n\u001b[0;32m     13\u001b[0m             \u001b[0mstart\u001b[0m\u001b[1;33m=\u001b[0m\u001b[0marr\u001b[0m\u001b[1;33m[\u001b[0m\u001b[1;36m0\u001b[0m\u001b[1;33m]\u001b[0m\u001b[1;33m\u001b[0m\u001b[1;33m\u001b[0m\u001b[0m\n\u001b[0;32m     14\u001b[0m             \u001b[0mend\u001b[0m \u001b[1;33m=\u001b[0m \u001b[0marr\u001b[0m\u001b[1;33m[\u001b[0m\u001b[0mmid\u001b[0m\u001b[1;33m]\u001b[0m\u001b[1;33m\u001b[0m\u001b[1;33m\u001b[0m\u001b[0m\n\u001b[1;32m---> 15\u001b[1;33m             \u001b[0marr\u001b[0m \u001b[1;33m=\u001b[0m \u001b[0marr\u001b[0m\u001b[1;33m[\u001b[0m\u001b[0mstart\u001b[0m\u001b[1;33m,\u001b[0m \u001b[0mend\u001b[0m\u001b[1;33m]\u001b[0m\u001b[1;33m\u001b[0m\u001b[1;33m\u001b[0m\u001b[0m\n\u001b[0m\u001b[0;32m     16\u001b[0m             \u001b[0mbinarysearch\u001b[0m\u001b[1;33m(\u001b[0m\u001b[0marr\u001b[0m\u001b[1;33m,\u001b[0m \u001b[0mlen\u001b[0m\u001b[1;33m(\u001b[0m\u001b[0marr\u001b[0m\u001b[1;33m)\u001b[0m\u001b[1;33m,\u001b[0m \u001b[0mk\u001b[0m\u001b[1;33m)\u001b[0m\u001b[1;33m\u001b[0m\u001b[1;33m\u001b[0m\u001b[0m\n\u001b[0;32m     17\u001b[0m \u001b[1;33m\u001b[0m\u001b[0m\n",
      "\u001b[1;31mTypeError\u001b[0m: list indices must be integers or slices, not tuple"
     ]
    }
   ],
   "source": [
    "arr=[0,1,2,3,4,5,6]\n",
    "n=7\n",
    "k=2\n",
    "def binarysearch(arr, n, k):\n",
    "    if k not in arr:\n",
    "        return -1\n",
    "    else:\n",
    "        mid=len(arr)//2\n",
    "        if k==arr[mid]:\n",
    "            return mid\n",
    "\n",
    "        elif k<arr[mid]:\n",
    "            start=arr[0]\n",
    "            end = arr[mid]\n",
    "            arr = arr[start, end]\n",
    "            binarysearch(arr, len(arr), k)\n",
    "            \n",
    "        else:\n",
    "            start = arr[mid+1]\n",
    "            end = arr[n-1]\n",
    "            arr = arr[start, end]\n",
    "            binarysearch(arr, len(arr), k)\n",
    "            \n",
    "            \n",
    "binarysearch(arr, n, k)"
   ]
  },
  {
   "cell_type": "code",
   "execution_count": 14,
   "metadata": {},
   "outputs": [
    {
     "data": {
      "text/plain": [
       "[(1, 2), (1, 3), (1, 4), (2, 3), (2, 4), (3, 4)]"
      ]
     },
     "execution_count": 14,
     "metadata": {},
     "output_type": "execute_result"
    }
   ],
   "source": [
    "y = list(itertools.combinations([1,2,3,4], 2))\n",
    "y"
   ]
  },
  {
   "cell_type": "code",
   "execution_count": 14,
   "metadata": {},
   "outputs": [
    {
     "data": {
      "text/plain": [
       "[1, 8, 27, 64]"
      ]
     },
     "execution_count": 14,
     "metadata": {},
     "output_type": "execute_result"
    }
   ],
   "source": [
    "l=[1,2,3,4]\n",
    "\n",
    "l2 = [i**3 for i in l]\n",
    "l2"
   ]
  },
  {
   "cell_type": "code",
   "execution_count": 32,
   "metadata": {},
   "outputs": [
    {
     "data": {
      "text/plain": [
       "[0, 2, 4, 6, 8]"
      ]
     },
     "execution_count": 32,
     "metadata": {},
     "output_type": "execute_result"
    }
   ],
   "source": [
    "l=[i for i in range(10)]\n",
    "l2 = list(filter(lambda x:x%2==0, l ))\n",
    "\n",
    "l2"
   ]
  },
  {
   "cell_type": "code",
   "execution_count": 35,
   "metadata": {},
   "outputs": [
    {
     "name": "stdout",
     "output_type": "stream",
     "text": [
      "[0, 1, 2, 3, 4, 5, 6, 7, 8, 9]\n",
      "[0, 1, 4, 9, 16, 25, 36, 49, 64, 81]\n"
     ]
    }
   ],
   "source": [
    "l = [i for i in range(10)]\n",
    "l2 = list(map(lambda x:x**2, l))\n",
    "print(l)\n",
    "print(l2)"
   ]
  },
  {
   "cell_type": "code",
   "execution_count": 38,
   "metadata": {},
   "outputs": [
    {
     "data": {
      "text/plain": [
       "45"
      ]
     },
     "execution_count": 38,
     "metadata": {},
     "output_type": "execute_result"
    }
   ],
   "source": [
    "from functools import reduce\n",
    "\n",
    "l = [i for i in range(10)]\n",
    "l2 = reduce(lambda x, y: x+y, l)\n",
    "\n",
    "l2"
   ]
  },
  {
   "cell_type": "code",
   "execution_count": 41,
   "metadata": {},
   "outputs": [
    {
     "data": {
      "text/plain": [
       "[9, 8, 7, 6, 5, 4, 3, 2, 1, 0]"
      ]
     },
     "execution_count": 41,
     "metadata": {},
     "output_type": "execute_result"
    }
   ],
   "source": [
    "l3=l[::-1]\n",
    "l3"
   ]
  },
  {
   "cell_type": "code",
   "execution_count": 65,
   "metadata": {},
   "outputs": [
    {
     "data": {
      "text/plain": [
       "[1, 2, 3, 4, 5, 6, 7, 8, 9, 10]"
      ]
     },
     "execution_count": 65,
     "metadata": {},
     "output_type": "execute_result"
    }
   ],
   "source": [
    "l[1:-1]"
   ]
  },
  {
   "cell_type": "code",
   "execution_count": 42,
   "metadata": {},
   "outputs": [
    {
     "data": {
      "text/plain": [
       "[0, 1, 2, 3, 4, 5, 6, 7, 8, 9]"
      ]
     },
     "execution_count": 42,
     "metadata": {},
     "output_type": "execute_result"
    }
   ],
   "source": [
    "l"
   ]
  },
  {
   "cell_type": "code",
   "execution_count": 54,
   "metadata": {},
   "outputs": [
    {
     "data": {
      "text/plain": [
       "[9, 8, 7, 6, 5, 4, 3, 2, 1, 0]"
      ]
     },
     "execution_count": 54,
     "metadata": {},
     "output_type": "execute_result"
    }
   ],
   "source": [
    "l[::-1]"
   ]
  },
  {
   "cell_type": "code",
   "execution_count": 55,
   "metadata": {},
   "outputs": [
    {
     "data": {
      "text/plain": [
       "[0, 1, 2, 3, 4, 5, 6, 7, 8, 9, 10]"
      ]
     },
     "execution_count": 55,
     "metadata": {},
     "output_type": "execute_result"
    }
   ],
   "source": [
    "l.append(10)\n",
    "l"
   ]
  },
  {
   "cell_type": "code",
   "execution_count": 56,
   "metadata": {},
   "outputs": [
    {
     "data": {
      "text/plain": [
       "[0, 1, 2, 3, 4, 5, 6, 77, 7, 8, 9, 10]"
      ]
     },
     "execution_count": 56,
     "metadata": {},
     "output_type": "execute_result"
    }
   ],
   "source": [
    "l.insert(7,77)\n",
    "l"
   ]
  },
  {
   "cell_type": "code",
   "execution_count": 57,
   "metadata": {},
   "outputs": [
    {
     "data": {
      "text/plain": [
       "[0, 1, 2, 3, 4, 5, 6, 77, 7, 8, 9, 10, 11, 12, 13]"
      ]
     },
     "execution_count": 57,
     "metadata": {},
     "output_type": "execute_result"
    }
   ],
   "source": [
    "l.extend([11,12,13])\n",
    "l"
   ]
  },
  {
   "cell_type": "code",
   "execution_count": 58,
   "metadata": {},
   "outputs": [
    {
     "data": {
      "text/plain": [
       "[0, 1, 2, 3, 4, 5, 6, 7, 8, 9, 10, 11, 12, 13]"
      ]
     },
     "execution_count": 58,
     "metadata": {},
     "output_type": "execute_result"
    }
   ],
   "source": [
    "l.remove(77)\n",
    "l"
   ]
  },
  {
   "cell_type": "code",
   "execution_count": 60,
   "metadata": {},
   "outputs": [
    {
     "data": {
      "text/plain": [
       "[0, 1, 2, 3, 4, 5, 6, 7, 8, 9, 10, 11]"
      ]
     },
     "execution_count": 60,
     "metadata": {},
     "output_type": "execute_result"
    }
   ],
   "source": [
    "l.pop()\n",
    "l"
   ]
  },
  {
   "cell_type": "code",
   "execution_count": 70,
   "metadata": {},
   "outputs": [
    {
     "data": {
      "text/plain": [
       "'a-b-c-d-e-f-g'"
      ]
     },
     "execution_count": 70,
     "metadata": {},
     "output_type": "execute_result"
    }
   ],
   "source": [
    "s=\"abcdefg\"\n",
    "s2=\"-\".join(s)\n",
    "s2"
   ]
  },
  {
   "cell_type": "code",
   "execution_count": 76,
   "metadata": {},
   "outputs": [
    {
     "name": "stdout",
     "output_type": "stream",
     "text": [
      "a 97\n",
      "b 98\n",
      "c 99\n",
      "d 100\n",
      "e 101\n",
      "f 102\n",
      "g 103\n"
     ]
    }
   ],
   "source": [
    "#string 2 ascill\n",
    "l2=[]\n",
    "for i in s:\n",
    "    l2.append(ord(i))\n",
    "    print(i, ord(i))"
   ]
  },
  {
   "cell_type": "code",
   "execution_count": 91,
   "metadata": {},
   "outputs": [
    {
     "name": "stdout",
     "output_type": "stream",
     "text": [
      "97 a\n",
      "98 b\n",
      "99 c\n",
      "100 d\n",
      "101 e\n",
      "102 f\n",
      "103 g\n"
     ]
    }
   ],
   "source": [
    "#ascill 2 string\n",
    "\n",
    "for i in l2:\n",
    "    print(i, chr(i))"
   ]
  },
  {
   "cell_type": "code",
   "execution_count": 95,
   "metadata": {},
   "outputs": [
    {
     "name": "stdout",
     "output_type": "stream",
     "text": [
      "0 \u0000\n",
      "1 \u0001\n",
      "2 \u0002\n",
      "3 \u0003\n",
      "4 \u0004\n",
      "5 \u0005\n",
      "6 \u0006\n",
      "7 \u0007\n",
      "8\n",
      "9 \t\n",
      "10 \n",
      "\n",
      "11 \u000b",
      "\n",
      "12 \f",
      "\n",
      "13 \n",
      "14 \u000e\n",
      "15 \u000f\n",
      "16 \u0010\n",
      "17 \u0011\n",
      "18 \u0012\n",
      "19 \u0013\n",
      "20 \u0014\n",
      "21 \u0015\n",
      "22 \u0016\n",
      "23 \u0017\n",
      "24 \u0018\n",
      "25 \u0019\n",
      "26 \u001a\n",
      "27 \u001b\n",
      "28 \u001c",
      "\n",
      "29 \u001d",
      "\n",
      "30 \u001e",
      "\n",
      "31 \u001f\n",
      "32  \n",
      "33 !\n",
      "34 \"\n",
      "35 #\n",
      "36 $\n",
      "37 %\n",
      "38 &\n",
      "39 '\n",
      "40 (\n",
      "41 )\n",
      "42 *\n",
      "43 +\n",
      "44 ,\n",
      "45 -\n",
      "46 .\n",
      "47 /\n",
      "48 0\n",
      "49 1\n",
      "50 2\n",
      "51 3\n",
      "52 4\n",
      "53 5\n",
      "54 6\n",
      "55 7\n",
      "56 8\n",
      "57 9\n",
      "58 :\n",
      "59 ;\n",
      "60 <\n",
      "61 =\n",
      "62 >\n",
      "63 ?\n",
      "64 @\n",
      "65 A\n",
      "66 B\n",
      "67 C\n",
      "68 D\n",
      "69 E\n",
      "70 F\n",
      "71 G\n",
      "72 H\n",
      "73 I\n",
      "74 J\n",
      "75 K\n",
      "76 L\n",
      "77 M\n",
      "78 N\n",
      "79 O\n",
      "80 P\n",
      "81 Q\n",
      "82 R\n",
      "83 S\n",
      "84 T\n",
      "85 U\n",
      "86 V\n",
      "87 W\n",
      "88 X\n",
      "89 Y\n",
      "90 Z\n",
      "91 [\n",
      "92 \\\n",
      "93 ]\n",
      "94 ^\n",
      "95 _\n",
      "96 `\n",
      "97 a\n",
      "98 b\n",
      "99 c\n",
      "100 d\n",
      "101 e\n",
      "102 f\n",
      "103 g\n",
      "104 h\n",
      "105 i\n",
      "106 j\n",
      "107 k\n",
      "108 l\n",
      "109 m\n",
      "110 n\n",
      "111 o\n",
      "112 p\n",
      "113 q\n",
      "114 r\n",
      "115 s\n",
      "116 t\n",
      "117 u\n",
      "118 v\n",
      "119 w\n",
      "120 x\n",
      "121 y\n",
      "122 z\n",
      "123 {\n",
      "124 |\n",
      "125 }\n",
      "126 ~\n",
      "127 \n",
      "128 \n",
      "129 \n",
      "130 \n",
      "131 \n",
      "132 \n",
      "133 ",
      "\n",
      "134 \n",
      "135 \n",
      "136 \n",
      "137 \n",
      "138 \n",
      "139 \n",
      "140 \n",
      "141 \n",
      "142 \n",
      "143 \n",
      "144 \n",
      "145 \n",
      "146 \n",
      "147 \n",
      "148 \n",
      "149 \n",
      "150 \n",
      "151 \n",
      "152 \n",
      "153 \n",
      "154 \n",
      "155 \n",
      "156 \n",
      "157 \n",
      "158 \n",
      "159 \n",
      "160  \n",
      "161 ¡\n",
      "162 ¢\n",
      "163 £\n",
      "164 ¤\n",
      "165 ¥\n",
      "166 ¦\n",
      "167 §\n",
      "168 ¨\n",
      "169 ©\n",
      "170 ª\n",
      "171 «\n",
      "172 ¬\n",
      "173 ­\n",
      "174 ®\n",
      "175 ¯\n",
      "176 °\n",
      "177 ±\n",
      "178 ²\n",
      "179 ³\n",
      "180 ´\n",
      "181 µ\n",
      "182 ¶\n",
      "183 ·\n",
      "184 ¸\n",
      "185 ¹\n",
      "186 º\n",
      "187 »\n",
      "188 ¼\n",
      "189 ½\n",
      "190 ¾\n",
      "191 ¿\n",
      "192 À\n",
      "193 Á\n",
      "194 Â\n",
      "195 Ã\n",
      "196 Ä\n",
      "197 Å\n",
      "198 Æ\n",
      "199 Ç\n",
      "200 È\n",
      "201 É\n",
      "202 Ê\n",
      "203 Ë\n",
      "204 Ì\n",
      "205 Í\n",
      "206 Î\n",
      "207 Ï\n",
      "208 Ð\n",
      "209 Ñ\n",
      "210 Ò\n",
      "211 Ó\n",
      "212 Ô\n",
      "213 Õ\n",
      "214 Ö\n",
      "215 ×\n",
      "216 Ø\n",
      "217 Ù\n",
      "218 Ú\n",
      "219 Û\n",
      "220 Ü\n",
      "221 Ý\n",
      "222 Þ\n",
      "223 ß\n",
      "224 à\n",
      "225 á\n",
      "226 â\n",
      "227 ã\n",
      "228 ä\n",
      "229 å\n",
      "230 æ\n",
      "231 ç\n",
      "232 è\n",
      "233 é\n",
      "234 ê\n",
      "235 ë\n",
      "236 ì\n",
      "237 í\n",
      "238 î\n",
      "239 ï\n",
      "240 ð\n",
      "241 ñ\n",
      "242 ò\n",
      "243 ó\n",
      "244 ô\n",
      "245 õ\n",
      "246 ö\n",
      "247 ÷\n",
      "248 ø\n",
      "249 ù\n",
      "250 ú\n",
      "251 û\n",
      "252 ü\n",
      "253 ý\n",
      "254 þ\n",
      "255 ÿ\n",
      "256 Ā\n",
      "257 ā\n",
      "258 Ă\n",
      "259 ă\n",
      "260 Ą\n",
      "261 ą\n",
      "262 Ć\n",
      "263 ć\n",
      "264 Ĉ\n",
      "265 ĉ\n",
      "266 Ċ\n",
      "267 ċ\n",
      "268 Č\n",
      "269 č\n",
      "270 Ď\n",
      "271 ď\n",
      "272 Đ\n",
      "273 đ\n",
      "274 Ē\n",
      "275 ē\n",
      "276 Ĕ\n",
      "277 ĕ\n",
      "278 Ė\n",
      "279 ė\n",
      "280 Ę\n",
      "281 ę\n",
      "282 Ě\n",
      "283 ě\n",
      "284 Ĝ\n",
      "285 ĝ\n",
      "286 Ğ\n",
      "287 ğ\n",
      "288 Ġ\n",
      "289 ġ\n",
      "290 Ģ\n",
      "291 ģ\n",
      "292 Ĥ\n",
      "293 ĥ\n",
      "294 Ħ\n",
      "295 ħ\n",
      "296 Ĩ\n",
      "297 ĩ\n",
      "298 Ī\n",
      "299 ī\n",
      "300 Ĭ\n",
      "301 ĭ\n",
      "302 Į\n",
      "303 į\n",
      "304 İ\n",
      "305 ı\n",
      "306 Ĳ\n",
      "307 ĳ\n",
      "308 Ĵ\n",
      "309 ĵ\n",
      "310 Ķ\n",
      "311 ķ\n",
      "312 ĸ\n",
      "313 Ĺ\n",
      "314 ĺ\n",
      "315 Ļ\n",
      "316 ļ\n",
      "317 Ľ\n",
      "318 ľ\n",
      "319 Ŀ\n",
      "320 ŀ\n",
      "321 Ł\n",
      "322 ł\n",
      "323 Ń\n",
      "324 ń\n",
      "325 Ņ\n",
      "326 ņ\n",
      "327 Ň\n",
      "328 ň\n",
      "329 ŉ\n",
      "330 Ŋ\n",
      "331 ŋ\n",
      "332 Ō\n",
      "333 ō\n",
      "334 Ŏ\n",
      "335 ŏ\n",
      "336 Ő\n",
      "337 ő\n",
      "338 Œ\n",
      "339 œ\n",
      "340 Ŕ\n",
      "341 ŕ\n",
      "342 Ŗ\n",
      "343 ŗ\n",
      "344 Ř\n",
      "345 ř\n",
      "346 Ś\n",
      "347 ś\n",
      "348 Ŝ\n",
      "349 ŝ\n",
      "350 Ş\n",
      "351 ş\n",
      "352 Š\n",
      "353 š\n",
      "354 Ţ\n",
      "355 ţ\n",
      "356 Ť\n",
      "357 ť\n",
      "358 Ŧ\n",
      "359 ŧ\n",
      "360 Ũ\n",
      "361 ũ\n",
      "362 Ū\n",
      "363 ū\n",
      "364 Ŭ\n",
      "365 ŭ\n",
      "366 Ů\n",
      "367 ů\n",
      "368 Ű\n",
      "369 ű\n",
      "370 Ų\n",
      "371 ų\n",
      "372 Ŵ\n",
      "373 ŵ\n",
      "374 Ŷ\n",
      "375 ŷ\n",
      "376 Ÿ\n",
      "377 Ź\n",
      "378 ź\n",
      "379 Ż\n",
      "380 ż\n",
      "381 Ž\n",
      "382 ž\n",
      "383 ſ\n",
      "384 ƀ\n",
      "385 Ɓ\n",
      "386 Ƃ\n",
      "387 ƃ\n",
      "388 Ƅ\n",
      "389 ƅ\n",
      "390 Ɔ\n",
      "391 Ƈ\n",
      "392 ƈ\n",
      "393 Ɖ\n",
      "394 Ɗ\n",
      "395 Ƌ\n",
      "396 ƌ\n",
      "397 ƍ\n",
      "398 Ǝ\n",
      "399 Ə\n",
      "400 Ɛ\n",
      "401 Ƒ\n",
      "402 ƒ\n",
      "403 Ɠ\n",
      "404 Ɣ\n",
      "405 ƕ\n",
      "406 Ɩ\n",
      "407 Ɨ\n",
      "408 Ƙ\n",
      "409 ƙ\n",
      "410 ƚ\n",
      "411 ƛ\n",
      "412 Ɯ\n",
      "413 Ɲ\n",
      "414 ƞ\n",
      "415 Ɵ\n",
      "416 Ơ\n",
      "417 ơ\n",
      "418 Ƣ\n",
      "419 ƣ\n",
      "420 Ƥ\n",
      "421 ƥ\n",
      "422 Ʀ\n",
      "423 Ƨ\n",
      "424 ƨ\n",
      "425 Ʃ\n",
      "426 ƪ\n",
      "427 ƫ\n",
      "428 Ƭ\n",
      "429 ƭ\n",
      "430 Ʈ\n",
      "431 Ư\n",
      "432 ư\n",
      "433 Ʊ\n",
      "434 Ʋ\n",
      "435 Ƴ\n",
      "436 ƴ\n",
      "437 Ƶ\n",
      "438 ƶ\n",
      "439 Ʒ\n",
      "440 Ƹ\n",
      "441 ƹ\n",
      "442 ƺ\n",
      "443 ƻ\n",
      "444 Ƽ\n",
      "445 ƽ\n",
      "446 ƾ\n",
      "447 ƿ\n",
      "448 ǀ\n",
      "449 ǁ\n",
      "450 ǂ\n",
      "451 ǃ\n",
      "452 Ǆ\n",
      "453 ǅ\n",
      "454 ǆ\n",
      "455 Ǉ\n",
      "456 ǈ\n",
      "457 ǉ\n",
      "458 Ǌ\n",
      "459 ǋ\n",
      "460 ǌ\n",
      "461 Ǎ\n",
      "462 ǎ\n",
      "463 Ǐ\n",
      "464 ǐ\n",
      "465 Ǒ\n",
      "466 ǒ\n",
      "467 Ǔ\n",
      "468 ǔ\n",
      "469 Ǖ\n",
      "470 ǖ\n",
      "471 Ǘ\n",
      "472 ǘ\n",
      "473 Ǚ\n",
      "474 ǚ\n",
      "475 Ǜ\n",
      "476 ǜ\n",
      "477 ǝ\n",
      "478 Ǟ\n",
      "479 ǟ\n",
      "480 Ǡ\n",
      "481 ǡ\n",
      "482 Ǣ\n",
      "483 ǣ\n",
      "484 Ǥ\n",
      "485 ǥ\n",
      "486 Ǧ\n",
      "487 ǧ\n",
      "488 Ǩ\n",
      "489 ǩ\n",
      "490 Ǫ\n",
      "491 ǫ\n",
      "492 Ǭ\n",
      "493 ǭ\n",
      "494 Ǯ\n",
      "495 ǯ\n",
      "496 ǰ\n",
      "497 Ǳ\n",
      "498 ǲ\n",
      "499 ǳ\n",
      "500 Ǵ\n",
      "501 ǵ\n",
      "502 Ƕ\n",
      "503 Ƿ\n",
      "504 Ǹ\n",
      "505 ǹ\n",
      "506 Ǻ\n",
      "507 ǻ\n",
      "508 Ǽ\n",
      "509 ǽ\n",
      "510 Ǿ\n",
      "511 ǿ\n",
      "512 Ȁ\n",
      "513 ȁ\n",
      "514 Ȃ\n",
      "515 ȃ\n",
      "516 Ȅ\n",
      "517 ȅ\n",
      "518 Ȇ\n",
      "519 ȇ\n",
      "520 Ȉ\n",
      "521 ȉ\n",
      "522 Ȋ\n",
      "523 ȋ\n",
      "524 Ȍ\n",
      "525 ȍ\n",
      "526 Ȏ\n",
      "527 ȏ\n",
      "528 Ȑ\n",
      "529 ȑ\n",
      "530 Ȓ\n",
      "531 ȓ\n",
      "532 Ȕ\n",
      "533 ȕ\n",
      "534 Ȗ\n",
      "535 ȗ\n",
      "536 Ș\n",
      "537 ș\n",
      "538 Ț\n",
      "539 ț\n",
      "540 Ȝ\n",
      "541 ȝ\n",
      "542 Ȟ\n",
      "543 ȟ\n",
      "544 Ƞ\n",
      "545 ȡ\n",
      "546 Ȣ\n",
      "547 ȣ\n",
      "548 Ȥ\n",
      "549 ȥ\n",
      "550 Ȧ\n",
      "551 ȧ\n",
      "552 Ȩ\n",
      "553 ȩ\n",
      "554 Ȫ\n",
      "555 ȫ\n",
      "556 Ȭ\n",
      "557 ȭ\n",
      "558 Ȯ\n",
      "559 ȯ\n",
      "560 Ȱ\n",
      "561 ȱ\n",
      "562 Ȳ\n",
      "563 ȳ\n",
      "564 ȴ\n",
      "565 ȵ\n",
      "566 ȶ\n",
      "567 ȷ\n",
      "568 ȸ\n",
      "569 ȹ\n",
      "570 Ⱥ\n",
      "571 Ȼ\n",
      "572 ȼ\n",
      "573 Ƚ\n",
      "574 Ⱦ\n",
      "575 ȿ\n",
      "576 ɀ\n",
      "577 Ɂ\n",
      "578 ɂ\n",
      "579 Ƀ\n",
      "580 Ʉ\n",
      "581 Ʌ\n",
      "582 Ɇ\n",
      "583 ɇ\n",
      "584 Ɉ\n",
      "585 ɉ\n",
      "586 Ɋ\n",
      "587 ɋ\n",
      "588 Ɍ\n",
      "589 ɍ\n",
      "590 Ɏ\n",
      "591 ɏ\n",
      "592 ɐ\n",
      "593 ɑ\n",
      "594 ɒ\n",
      "595 ɓ\n",
      "596 ɔ\n",
      "597 ɕ\n",
      "598 ɖ\n",
      "599 ɗ\n",
      "600 ɘ\n",
      "601 ə\n",
      "602 ɚ\n",
      "603 ɛ\n",
      "604 ɜ\n",
      "605 ɝ\n",
      "606 ɞ\n",
      "607 ɟ\n",
      "608 ɠ\n",
      "609 ɡ\n",
      "610 ɢ\n",
      "611 ɣ\n",
      "612 ɤ\n",
      "613 ɥ\n",
      "614 ɦ\n",
      "615 ɧ\n",
      "616 ɨ\n",
      "617 ɩ\n",
      "618 ɪ\n",
      "619 ɫ\n",
      "620 ɬ\n",
      "621 ɭ\n",
      "622 ɮ\n",
      "623 ɯ\n",
      "624 ɰ\n",
      "625 ɱ\n",
      "626 ɲ\n",
      "627 ɳ\n",
      "628 ɴ\n",
      "629 ɵ\n",
      "630 ɶ\n",
      "631 ɷ\n",
      "632 ɸ\n",
      "633 ɹ\n",
      "634 ɺ\n",
      "635 ɻ\n",
      "636 ɼ\n",
      "637 ɽ\n",
      "638 ɾ\n",
      "639 ɿ\n",
      "640 ʀ\n",
      "641 ʁ\n",
      "642 ʂ\n",
      "643 ʃ\n",
      "644 ʄ\n",
      "645 ʅ\n",
      "646 ʆ\n",
      "647 ʇ\n",
      "648 ʈ\n",
      "649 ʉ\n",
      "650 ʊ\n",
      "651 ʋ\n",
      "652 ʌ\n",
      "653 ʍ\n",
      "654 ʎ\n",
      "655 ʏ\n",
      "656 ʐ\n",
      "657 ʑ\n",
      "658 ʒ\n",
      "659 ʓ\n",
      "660 ʔ\n",
      "661 ʕ\n",
      "662 ʖ\n",
      "663 ʗ\n",
      "664 ʘ\n",
      "665 ʙ\n",
      "666 ʚ\n",
      "667 ʛ\n",
      "668 ʜ\n",
      "669 ʝ\n",
      "670 ʞ\n",
      "671 ʟ\n",
      "672 ʠ\n",
      "673 ʡ\n",
      "674 ʢ\n",
      "675 ʣ\n",
      "676 ʤ\n",
      "677 ʥ\n",
      "678 ʦ\n",
      "679 ʧ\n",
      "680 ʨ\n",
      "681 ʩ\n",
      "682 ʪ\n",
      "683 ʫ\n",
      "684 ʬ\n",
      "685 ʭ\n",
      "686 ʮ\n",
      "687 ʯ\n",
      "688 ʰ\n",
      "689 ʱ\n",
      "690 ʲ\n",
      "691 ʳ\n",
      "692 ʴ\n",
      "693 ʵ\n",
      "694 ʶ\n",
      "695 ʷ\n",
      "696 ʸ\n",
      "697 ʹ\n",
      "698 ʺ\n",
      "699 ʻ\n",
      "700 ʼ\n",
      "701 ʽ\n",
      "702 ʾ\n",
      "703 ʿ\n",
      "704 ˀ\n",
      "705 ˁ\n",
      "706 ˂\n",
      "707 ˃\n",
      "708 ˄\n",
      "709 ˅\n",
      "710 ˆ\n",
      "711 ˇ\n",
      "712 ˈ\n",
      "713 ˉ\n",
      "714 ˊ\n",
      "715 ˋ\n",
      "716 ˌ\n",
      "717 ˍ\n",
      "718 ˎ\n",
      "719 ˏ\n",
      "720 ː\n",
      "721 ˑ\n",
      "722 ˒\n",
      "723 ˓\n",
      "724 ˔\n",
      "725 ˕\n",
      "726 ˖\n",
      "727 ˗\n",
      "728 ˘\n",
      "729 ˙\n",
      "730 ˚\n",
      "731 ˛\n",
      "732 ˜\n",
      "733 ˝\n",
      "734 ˞\n",
      "735 ˟\n",
      "736 ˠ\n",
      "737 ˡ\n",
      "738 ˢ\n",
      "739 ˣ\n",
      "740 ˤ\n",
      "741 ˥\n",
      "742 ˦\n",
      "743 ˧\n",
      "744 ˨\n",
      "745 ˩\n",
      "746 ˪\n",
      "747 ˫\n",
      "748 ˬ\n",
      "749 ˭\n",
      "750 ˮ\n",
      "751 ˯\n",
      "752 ˰\n",
      "753 ˱\n",
      "754 ˲\n",
      "755 ˳\n",
      "756 ˴\n",
      "757 ˵\n",
      "758 ˶\n",
      "759 ˷\n",
      "760 ˸\n",
      "761 ˹\n",
      "762 ˺\n",
      "763 ˻\n",
      "764 ˼\n",
      "765 ˽\n",
      "766 ˾\n",
      "767 ˿\n",
      "768 ̀\n",
      "769 ́\n",
      "770 ̂\n",
      "771 ̃\n",
      "772 ̄\n",
      "773 ̅\n",
      "774 ̆\n",
      "775 ̇\n",
      "776 ̈\n",
      "777 ̉\n",
      "778 ̊\n",
      "779 ̋\n",
      "780 ̌\n",
      "781 ̍\n",
      "782 ̎\n",
      "783 ̏\n",
      "784 ̐\n",
      "785 ̑\n",
      "786 ̒\n",
      "787 ̓\n",
      "788 ̔\n",
      "789 ̕\n",
      "790 ̖\n",
      "791 ̗\n",
      "792 ̘\n",
      "793 ̙\n",
      "794 ̚\n",
      "795 ̛\n",
      "796 ̜\n",
      "797 ̝\n",
      "798 ̞\n",
      "799 ̟\n",
      "800 ̠\n",
      "801 ̡\n",
      "802 ̢\n",
      "803 ̣\n",
      "804 ̤\n",
      "805 ̥\n",
      "806 ̦\n",
      "807 ̧\n",
      "808 ̨\n",
      "809 ̩\n",
      "810 ̪\n",
      "811 ̫\n",
      "812 ̬\n",
      "813 ̭\n",
      "814 ̮\n",
      "815 ̯\n",
      "816 ̰\n",
      "817 ̱\n",
      "818 ̲\n",
      "819 ̳\n",
      "820 ̴\n",
      "821 ̵\n",
      "822 ̶\n",
      "823 ̷\n",
      "824 ̸\n",
      "825 ̹\n",
      "826 ̺\n",
      "827 ̻\n",
      "828 ̼\n",
      "829 ̽\n",
      "830 ̾\n",
      "831 ̿\n",
      "832 ̀\n",
      "833 ́\n",
      "834 ͂\n",
      "835 ̓\n",
      "836 ̈́\n",
      "837 ͅ\n",
      "838 ͆\n",
      "839 ͇\n",
      "840 ͈\n",
      "841 ͉\n",
      "842 ͊\n",
      "843 ͋\n",
      "844 ͌\n",
      "845 ͍\n",
      "846 ͎\n",
      "847 ͏\n",
      "848 ͐\n",
      "849 ͑\n",
      "850 ͒\n",
      "851 ͓\n",
      "852 ͔\n",
      "853 ͕\n",
      "854 ͖\n",
      "855 ͗\n",
      "856 ͘\n",
      "857 ͙\n",
      "858 ͚\n",
      "859 ͛\n",
      "860 ͜\n",
      "861 ͝\n",
      "862 ͞\n",
      "863 ͟\n",
      "864 ͠\n",
      "865 ͡\n",
      "866 ͢\n",
      "867 ͣ\n",
      "868 ͤ\n",
      "869 ͥ\n",
      "870 ͦ\n",
      "871 ͧ\n",
      "872 ͨ\n",
      "873 ͩ\n",
      "874 ͪ\n",
      "875 ͫ\n",
      "876 ͬ\n",
      "877 ͭ\n",
      "878 ͮ\n",
      "879 ͯ\n",
      "880 Ͱ\n",
      "881 ͱ\n",
      "882 Ͳ\n",
      "883 ͳ\n",
      "884 ʹ\n",
      "885 ͵\n",
      "886 Ͷ\n",
      "887 ͷ\n",
      "888 ͸\n",
      "889 ͹\n",
      "890 ͺ\n",
      "891 ͻ\n",
      "892 ͼ\n",
      "893 ͽ\n",
      "894 ;\n",
      "895 Ϳ\n",
      "896 ΀\n",
      "897 ΁\n",
      "898 ΂\n",
      "899 ΃\n",
      "900 ΄\n",
      "901 ΅\n",
      "902 Ά\n",
      "903 ·\n",
      "904 Έ\n",
      "905 Ή\n",
      "906 Ί\n",
      "907 ΋\n",
      "908 Ό\n",
      "909 ΍\n",
      "910 Ύ\n",
      "911 Ώ\n",
      "912 ΐ\n",
      "913 Α\n",
      "914 Β\n",
      "915 Γ\n",
      "916 Δ\n",
      "917 Ε\n",
      "918 Ζ\n",
      "919 Η\n",
      "920 Θ\n",
      "921 Ι\n",
      "922 Κ\n",
      "923 Λ\n",
      "924 Μ\n",
      "925 Ν\n",
      "926 Ξ\n",
      "927 Ο\n",
      "928 Π\n",
      "929 Ρ\n",
      "930 ΢\n",
      "931 Σ\n",
      "932 Τ\n",
      "933 Υ\n",
      "934 Φ\n",
      "935 Χ\n",
      "936 Ψ\n",
      "937 Ω\n",
      "938 Ϊ\n",
      "939 Ϋ\n",
      "940 ά\n",
      "941 έ\n",
      "942 ή\n",
      "943 ί\n",
      "944 ΰ\n",
      "945 α\n",
      "946 β\n",
      "947 γ\n",
      "948 δ\n",
      "949 ε\n",
      "950 ζ\n",
      "951 η\n",
      "952 θ\n",
      "953 ι\n",
      "954 κ\n",
      "955 λ\n",
      "956 μ\n",
      "957 ν\n",
      "958 ξ\n",
      "959 ο\n",
      "960 π\n",
      "961 ρ\n",
      "962 ς\n",
      "963 σ\n",
      "964 τ\n",
      "965 υ\n",
      "966 φ\n",
      "967 χ\n",
      "968 ψ\n",
      "969 ω\n",
      "970 ϊ\n",
      "971 ϋ\n",
      "972 ό\n",
      "973 ύ\n",
      "974 ώ\n",
      "975 Ϗ\n",
      "976 ϐ\n",
      "977 ϑ\n",
      "978 ϒ\n",
      "979 ϓ\n",
      "980 ϔ\n",
      "981 ϕ\n",
      "982 ϖ\n",
      "983 ϗ\n",
      "984 Ϙ\n",
      "985 ϙ\n",
      "986 Ϛ\n",
      "987 ϛ\n",
      "988 Ϝ\n",
      "989 ϝ\n",
      "990 Ϟ\n",
      "991 ϟ\n",
      "992 Ϡ\n",
      "993 ϡ\n",
      "994 Ϣ\n",
      "995 ϣ\n",
      "996 Ϥ\n",
      "997 ϥ\n",
      "998 Ϧ\n",
      "999 ϧ\n"
     ]
    }
   ],
   "source": [
    "for i in range(1000):\n",
    "    print(i, chr(i))"
   ]
  },
  {
   "cell_type": "code",
   "execution_count": 69,
   "metadata": {},
   "outputs": [
    {
     "data": {
      "text/plain": [
       "'9-8-7-6-5-4-3-2-1-0'"
      ]
     },
     "execution_count": 69,
     "metadata": {},
     "output_type": "execute_result"
    }
   ],
   "source": [
    "l=[str(i) for i in range(10)]\n",
    "l2=\"-\".join(l)\n",
    "l2"
   ]
  },
  {
   "cell_type": "code",
   "execution_count": 100,
   "metadata": {},
   "outputs": [
    {
     "data": {
      "text/plain": [
       "[1, 2, 3, 4, 45]"
      ]
     },
     "execution_count": 100,
     "metadata": {},
     "output_type": "execute_result"
    }
   ],
   "source": [
    "l=[1,2,3,4,[], 45, []]\n",
    "x = [i for i in l if i!=[]]\n",
    "x"
   ]
  },
  {
   "cell_type": "code",
   "execution_count": 106,
   "metadata": {},
   "outputs": [
    {
     "data": {
      "text/plain": [
       "[1, 2, [3, 4, 5], 6, 7, [8, 99]]"
      ]
     },
     "execution_count": 106,
     "metadata": {},
     "output_type": "execute_result"
    }
   ],
   "source": [
    "l=[1,2,[3,4,5],6, 7,[8,99]]\n",
    "l"
   ]
  },
  {
   "cell_type": "code",
   "execution_count": 107,
   "metadata": {},
   "outputs": [
    {
     "data": {
      "text/plain": [
       "[1, 2, 3, 4, 5, 6, 7, 8, 99]"
      ]
     },
     "execution_count": 107,
     "metadata": {},
     "output_type": "execute_result"
    }
   ],
   "source": [
    "tmp=[]\n",
    "def flatlist(l):\n",
    "    for i in l:\n",
    "        if type(i)!=type([]):\n",
    "            tmp.append(i)\n",
    "        else:\n",
    "            flatlist(i)\n",
    "            \n",
    "flatlist(l)\n",
    "tmp\n",
    "            "
   ]
  },
  {
   "cell_type": "code",
   "execution_count": 120,
   "metadata": {},
   "outputs": [
    {
     "data": {
      "text/plain": [
       "{1: 3, 2: 2, 3: 2, 4: 2, 5: 1, 8: 1, 9: 1, 6: 1}"
      ]
     },
     "execution_count": 120,
     "metadata": {},
     "output_type": "execute_result"
    }
   ],
   "source": [
    "l=[1,2,3,1,4,5,2,1,3,4,8,9,6]\n",
    "d2={}\n",
    "for i in l:\n",
    "    d2[i]=l.count(i)\n",
    "    \n",
    "\n",
    "d2"
   ]
  },
  {
   "cell_type": "code",
   "execution_count": 121,
   "metadata": {},
   "outputs": [
    {
     "name": "stdout",
     "output_type": "stream",
     "text": [
      "(1, 3)\n",
      "(2, 2)\n",
      "(3, 2)\n",
      "(4, 2)\n",
      "(5, 1)\n",
      "(8, 1)\n",
      "(9, 1)\n",
      "(6, 1)\n"
     ]
    }
   ],
   "source": [
    "for k,v in d2.items():\n",
    "    print((k,v))"
   ]
  },
  {
   "cell_type": "code",
   "execution_count": 112,
   "metadata": {},
   "outputs": [
    {
     "name": "stdout",
     "output_type": "stream",
     "text": [
      "[1, 2, 3, 1, 4, 5, 2, 1, 3, 4, 8, 9]\n",
      "[3, 2, 2, 3, 2, 1, 2, 3, 2, 2, 1, 1]\n"
     ]
    }
   ],
   "source": [
    "print(l)\n",
    "print(l2)"
   ]
  },
  {
   "cell_type": "code",
   "execution_count": 123,
   "metadata": {},
   "outputs": [
    {
     "data": {
      "text/plain": [
       "[0, 1, 2, 3, 4, 5, 6, 7, 8, 9, 10]"
      ]
     },
     "execution_count": 123,
     "metadata": {},
     "output_type": "execute_result"
    }
   ],
   "source": [
    "l=[i for i in range(11)]\n",
    "\n",
    "k=3\n",
    "l2=[]\n",
    "def makeGroup(l, l2):\n",
    "    if (len(l)%2!=0):\n",
    "        c=(len(l)//2)+1\n",
    "    else:\n",
    "        c=(len(l)//2)\n",
    "    \n",
    "    \n",
    "    "
   ]
  },
  {
   "cell_type": "code",
   "execution_count": 135,
   "metadata": {},
   "outputs": [
    {
     "data": {
      "text/plain": [
       "5.5"
      ]
     },
     "execution_count": 135,
     "metadata": {},
     "output_type": "execute_result"
    }
   ],
   "source": [
    "11/2"
   ]
  },
  {
   "cell_type": "code",
   "execution_count": null,
   "metadata": {},
   "outputs": [],
   "source": []
  }
 ],
 "metadata": {
  "kernelspec": {
   "display_name": "Python 3",
   "language": "python",
   "name": "python3"
  },
  "language_info": {
   "codemirror_mode": {
    "name": "ipython",
    "version": 3
   },
   "file_extension": ".py",
   "mimetype": "text/x-python",
   "name": "python",
   "nbconvert_exporter": "python",
   "pygments_lexer": "ipython3",
   "version": "3.7.1"
  }
 },
 "nbformat": 4,
 "nbformat_minor": 2
}
